{
 "cells": [
  {
   "cell_type": "code",
   "execution_count": 1,
   "metadata": {},
   "outputs": [],
   "source": [
    "# import json\n",
    "# import os\n",
    "# from collections import defaultdict \n",
    "# from tqdm import tqdm\n",
    "# import glob\n",
    "\n",
    "# input_dir = \"/shared/3/projects/hiatus/aggregated_trainset_v2/raw_datasets/ao3\"\n",
    "# output_dir = \"/shared/3/projects/hiatus/idiolect/data/pilot/ao3\"\n",
    "# output_path = os.path.join(output_dir, \"corpus.jsonl\")\n",
    "\n",
    "# # Make sure the output directory exists\n",
    "# os.makedirs(output_dir, exist_ok=True)\n",
    "\n",
    "# author_counts = defaultdict(list)\n",
    "\n",
    "# # Find all .jsonl files in the directory\n",
    "# jsonl_files = glob.glob(os.path.join(input_dir, \"*.jsonl\"))\n",
    "\n",
    "# # Process each file\n",
    "# for file_path in jsonl_files:\n",
    "#     with open(file_path, 'r') as file:\n",
    "#         for line in tqdm(file, desc=f\"Processing {file_path}\"):\n",
    "#             try:\n",
    "#                 doc = json.loads(line)\n",
    "\n",
    "#                 # Adjusted to access authorIDs from within sourceSpecific\n",
    "#                 if (len(doc['authorIDs']) == 1 and \n",
    "#                      doc['lengthWords'] >= 150 and  \n",
    "#                      ',' not in doc['sourceSpecific']['author']): \n",
    "#                     author_id = doc['authorIDs'][0]\n",
    "# #                     print(author_id)\n",
    "#                     author_counts[author_id].append(doc)\n",
    "#             except json.JSONDecodeError:\n",
    "#                 pass  # Ignore the JSON decode error and move on\n"
   ]
  },
  {
   "cell_type": "code",
   "execution_count": 2,
   "metadata": {},
   "outputs": [
    {
     "name": "stderr",
     "output_type": "stream",
     "text": [
      "processing {file_path}: 1771985it [01:11, 24768.01it/s]\n"
     ]
    }
   ],
   "source": [
    "import json\n",
    "import os\n",
    "from collections import defaultdict \n",
    "from tqdm import tqdm\n",
    "\n",
    "file_path= \"/shared/3/projects/hiatus/aggregated_trainset_v2/raw_datasets/amazon/corpus.jsonl\"\n",
    "output_path = \"/shared/3/projects/hiatus/idiolect/data/pilot/amazon/corpus.jsonl\"\n",
    "\n",
    "os.makedirs(os.path.dirname(output_path), exist_ok = True)\n",
    "\n",
    "author_counts = defaultdict(list)\n",
    "with open(file_path, 'r') as file:\n",
    "    for line in tqdm(file, desc = \"processing {file_path}\"):\n",
    "        doc = json.loads(line)\n",
    "        if len(doc['authorIDs']) == 1 and doc['lengthWords'] >= 150:  \n",
    "            author_id = doc['authorIDs'][0]\n",
    "            author_counts[author_id].append(doc)\n",
    "# print(author_counts)"
   ]
  },
  {
   "cell_type": "code",
   "execution_count": 3,
   "metadata": {},
   "outputs": [
    {
     "name": "stdout",
     "output_type": "stream",
     "text": [
      "Total number of authors: 108929\n",
      "Total number of posts: 558170\n",
      "Average number of posts per author: 5.12\n",
      "Total number of authors with at least 5 posts : 44146\n",
      "Total number of authors with at least 10 posts: 12949\n"
     ]
    }
   ],
   "source": [
    "def print_stats(post_counts):\n",
    "    total_posts = 0\n",
    "    authors_over_5 = 0\n",
    "    authors_over_10 = 0\n",
    "\n",
    "    for author, posts in post_counts.items():\n",
    "        total_posts += len(posts)\n",
    "        \n",
    "        if len(posts) >= 5:\n",
    "            authors_over_5 += 1\n",
    "        if len(posts) >= 10:\n",
    "            authors_over_10 += 1\n",
    "\n",
    "    total_authors = len(post_counts)\n",
    "    avg_posts = float(total_posts) / total_authors if total_authors else 0.0\n",
    "\n",
    "    print(f\"Total number of authors: {total_authors}\")\n",
    "    print(f\"Total number of posts: {total_posts}\")\n",
    "    print(f\"Average number of posts per author: {avg_posts:.2f}\")\n",
    "    print(f\"Total number of authors with at least 5 posts : {authors_over_5}\")\n",
    "    print(f\"Total number of authors with at least 10 posts: {authors_over_10}\")\n",
    "\n",
    "print_stats(author_counts)    "
   ]
  },
  {
   "cell_type": "code",
   "execution_count": 7,
   "metadata": {},
   "outputs": [
    {
     "name": "stdout",
     "output_type": "stream",
     "text": [
      "Total number of authors: 1000\n",
      "Total number of posts: 35858\n",
      "Average number of posts per author: 35.86\n",
      "Total number of authors with at least 5 posts : 1000\n",
      "Total number of authors with at least 10 posts: 1000\n"
     ]
    }
   ],
   "source": [
    "sorted_author_count = sorted(author_counts.keys(), key=lambda author: len(author_counts[author]), reverse=True)\n",
    "for author in sorted_author_count[100:1100]:\n",
    "#     print(author_counts[author][0])\n",
    "#     break\n",
    "    total_count += len(author_counts[author])\n",
    "print(float(total_count)/1000)\n",
    "\n"
   ]
  },
  {
   "cell_type": "code",
   "execution_count": 5,
   "metadata": {},
   "outputs": [
    {
     "name": "stderr",
     "output_type": "stream",
     "text": [
      "writing author documents to /shared/3/projects/hiatus/idiolect/data/pilot/amazon/corpus.jsonl: 100%|█\n"
     ]
    }
   ],
   "source": [
    "import json\n",
    "\n",
    "# Path to your output .jsonl file\n",
    "\n",
    "i = 0\n",
    "# Open the file for writing\n",
    "with open(output_path, 'w') as file:\n",
    "    # Iterate over all sorted authors\n",
    "    for author in tqdm(sorted_author_count[100:1100], desc = f\"writing author documents to {output_path}\"):\n",
    "        for document in author_counts[author]:\n",
    "            # Assuming each document is already a dictionary that can be serialized to JSON\n",
    "            json_string = json.dumps(document)\n",
    "            file.write(json_string + '\\n')\n",
    "            i += 1\n"
   ]
  },
  {
   "cell_type": "code",
   "execution_count": 6,
   "metadata": {},
   "outputs": [],
   "source": [
    "print(i)"
   ]
  },
  {
   "cell_type": "code",
   "execution_count": null,
   "metadata": {},
   "outputs": [],
   "source": []
  }
 ],
 "metadata": {
  "kernelspec": {
   "display_name": "Python 3 (ipykernel)",
   "language": "python",
   "name": "python3"
  },
  "language_info": {
   "codemirror_mode": {
    "name": "ipython",
    "version": 3
   },
   "file_extension": ".py",
   "mimetype": "text/x-python",
   "name": "python",
   "nbconvert_exporter": "python",
   "pygments_lexer": "ipython3",
   "version": "3.11.5"
  }
 },
 "nbformat": 4,
 "nbformat_minor": 2
}
