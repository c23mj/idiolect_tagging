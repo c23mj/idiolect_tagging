{
 "cells": [
  {
   "cell_type": "code",
   "execution_count": null,
   "metadata": {},
   "outputs": [
    {
     "name": "stderr",
     "output_type": "stream",
     "text": [
      "Processing /shared/4/datasets/long-reddit/RC_2007-12.gz: 3845it [00:00, 22622.05it/s]\n",
      "Processing /shared/4/datasets/long-reddit/RC_2007-07.gz: 2329it [00:00, 28934.37it/s]\n",
      "Processing /shared/4/datasets/long-reddit/RC_2008-06.gz: 5546it [00:00, 28574.35it/s]\n",
      "Processing /shared/4/datasets/long-reddit/RC_2009-07.gz: 18361it [00:00, 24994.87it/s]\n",
      "Processing /shared/4/datasets/long-reddit/RC_2016-06.gz: 619269it [00:29, 21189.22it/s]\n",
      "Processing /shared/4/datasets/long-reddit/RC_2013-06.gz: 276482it [00:13, 21119.14it/s]\n",
      "Processing /shared/4/datasets/long-reddit/RC_2017-06.gz: 684042it [00:34, 19562.28it/s]\n",
      "Processing /shared/4/datasets/long-reddit/RC_2006-04.gz: 331it [00:00, 15478.00it/s]\n",
      "Processing /shared/4/datasets/long-reddit/RC_2012-02.gz: 116503it [00:05, 21489.63it/s]"
     ]
    }
   ],
   "source": [
    "import json\n",
    "import os\n",
    "import gzip\n",
    "from collections import defaultdict\n",
    "from tqdm import tqdm\n",
    "import glob\n",
    "\n",
    "input_dir = \"/shared/4/datasets/long-reddit/\"\n",
    "output_dir = \"/shared/3/projects/hiatus/idiolect/data/full_pilot/long-reddit\"\n",
    "output_path = os.path.join(output_dir, \"corpus.jsonl\")\n",
    "\n",
    "# Make sure the output directory exists\n",
    "os.makedirs(output_dir, exist_ok=True)\n",
    "\n",
    "author_counts = defaultdict(list)\n",
    "author_docs = defaultdict(set)\n",
    "# Define the latest year to include in the dataset\n",
    "latest_year = 2020\n",
    "\n",
    "# for file in glob.glob(os.path.join(input_dir, \"*.gz\")):\n",
    "#     print(file[-10:-6])\n",
    "# Find all .gz files in the directory and filter by year\n",
    "gz_files = [file for file in glob.glob(os.path.join(input_dir, \"*.gz\")) if int(file[-10:-6]) <= latest_year]\n",
    "\n",
    "# print(gz_files)\n",
    "# Process each file\n",
    "for file_path in gz_files:\n",
    "    with gzip.open(file_path, 'rt', encoding='utf-8') as file:\n",
    "        for line in tqdm(file, desc=f\"Processing {file_path}\"):\n",
    "            try:\n",
    "                doc = json.loads(line)\n",
    "                if \"author\" in doc and doc['body'] not in author_docs[doc['author']]: \n",
    "                    author_counts[doc[\"author\"]].append(doc)\n",
    "                    author_docs[doc['author']].add(doc['body'])\n",
    "            except json.JSONDecodeError:\n",
    "                pass  # Ignore the JSON decode error and move on\n"
   ]
  },
  {
   "cell_type": "code",
   "execution_count": null,
   "metadata": {},
   "outputs": [],
   "source": [
    "# import json\n",
    "# import os\n",
    "# from collections import defaultdict \n",
    "# from tqdm import tqdm\n",
    "# import glob\n",
    "\n",
    "# input_dir = \"/shared/3/projects/hiatus/aggregated_trainset_v2/raw_datasets/ao3\"\n",
    "# output_dir = \"/shared/3/projects/hiatus/idiolect/data/full_pilot/ao3\"\n",
    "# output_path = os.path.join(output_dir, \"corpus.jsonl\")\n",
    "\n",
    "# # Make sure the output directory exists\n",
    "# os.makedirs(output_dir, exist_ok=True)\n",
    "\n",
    "# author_counts = defaultdict(list)\n",
    "\n",
    "# # Find all .jsonl files in the directory\n",
    "# jsonl_files = glob.glob(os.path.join(input_dir, \"*.jsonl\"))\n",
    "\n",
    "# # Process each file\n",
    "# for file_path in jsonl_files:\n",
    "#     with open(file_path, 'r') as file:\n",
    "#         for line in tqdm(file, desc=f\"Processing {file_path}\"):\n",
    "#             try:\n",
    "#                 doc = json.loads(line)\n",
    "\n",
    "#                 # Adjusted to access authorIDs from within sourceSpecific\n",
    "#                 if (len(doc['authorIDs']) == 1 and \n",
    "#                      doc['lengthWords'] >= 150 and  \n",
    "#                      ',' not in doc['sourceSpecific']['author']): \n",
    "#                     author_id = doc['authorIDs'][0]\n",
    "#                     author_counts[author_id].append(doc)\n",
    "#             except json.JSONDecodeError:\n",
    "#                 pass  # Ignore the JSON decode error and move on\n"
   ]
  },
  {
   "cell_type": "code",
   "execution_count": null,
   "metadata": {},
   "outputs": [],
   "source": [
    "# import json\n",
    "# import os\n",
    "# from collections import defaultdict \n",
    "# from tqdm import tqdm\n",
    "\n",
    "# file_path= \"/shared/3/projects/hiatus/aggregated_trainset_v2/raw_datasets/gmane/corpus.jsonl\"\n",
    "# output_path = \"/shared/3/projects/hiatus/idiolect/data/full_pilot/gmane/corpus.jsonl\"\n",
    "\n",
    "# os.makedirs(os.path.dirname(output_path), exist_ok = True)\n",
    "\n",
    "# author_counts = defaultdict(list)\n",
    "# author_docs = defaultdict(set)\n",
    "# with open(file_path, 'r') as file:\n",
    "#     for line in tqdm(file, desc = f\"processing {file_path}\"):\n",
    "#         doc = json.loads(line)\n",
    "#         author_id = doc['authorIDs'][0]\n",
    "#         if len(doc['authorIDs']) == 1 and doc['lengthWords'] >= 150 and doc[\"fullText\"] not in author_docs[author_id]:  \n",
    "#             author_docs[author_id].add(doc['fullText'])\n",
    "#             author_counts[author_id].append(doc)\n",
    "# # print(author_counts)"
   ]
  },
  {
   "cell_type": "code",
   "execution_count": 2,
   "metadata": {},
   "outputs": [
    {
     "name": "stdout",
     "output_type": "stream",
     "text": [
      "Total number of authors: 1585076\n",
      "Total number of posts: 6407975\n",
      "Average number of posts per author: 4.04\n",
      "Total number of authors with at least 5 posts : 253398\n",
      "Total number of authors with at least 10 posts: 111452\n"
     ]
    }
   ],
   "source": [
    "def print_stats(post_counts):\n",
    "    total_posts = 0\n",
    "    authors_over_5 = 0\n",
    "    authors_over_10 = 0\n",
    "\n",
    "    for author, posts in post_counts.items():\n",
    "        total_posts += len(posts)\n",
    "        \n",
    "        if len(posts) >= 5:\n",
    "            authors_over_5 += 1\n",
    "        if len(posts) >= 10:\n",
    "            authors_over_10 += 1\n",
    "\n",
    "    total_authors = len(post_counts)\n",
    "    avg_posts = float(total_posts) / total_authors if total_authors else 0.0\n",
    "\n",
    "    print(f\"Total number of authors: {total_authors}\")\n",
    "    print(f\"Total number of posts: {total_posts}\")\n",
    "    print(f\"Average number of posts per author: {avg_posts:.2f}\")\n",
    "    print(f\"Total number of authors with at least 5 posts : {authors_over_5}\")\n",
    "    print(f\"Total number of authors with at least 10 posts: {authors_over_10}\")\n",
    "\n",
    "print_stats(author_counts)    "
   ]
  },
  {
   "cell_type": "code",
   "execution_count": null,
   "metadata": {},
   "outputs": [],
   "source": [
    "def grab_bot_accounts():\n",
    "    fname = '/shared/0/projects/prosocial/known-bots.tsv'\n",
    "    bots = []\n",
    "\n",
    "    with open(fname, 'rt') as f:\n",
    "        lines = f.readlines()\n",
    "\n",
    "        for line in lines:\n",
    "            bots.append(line.split('\\t')[1])\n",
    "\n",
    "    print(\"Known bots: %d\" % len(bots))\n",
    "    bots.append('[deleted]')\n",
    "    bots.append('deleted')\n",
    "    bots.append('AutoModerator')\n",
    "    return bots"
   ]
  },
  {
   "cell_type": "code",
   "execution_count": null,
   "metadata": {},
   "outputs": [],
   "source": [
    "# import time \n",
    "bots = grab_bot_accounts()\n",
    "non_bots = list(set(author_counts.keys()) - set(bots))\n",
    "sorted_author_count = sorted(non_bots, key=lambda author: len(author_counts[author]), reverse=True)\n",
    "pruned_author_count = sorted_author_count[:100] + [author for author in sorted_author_count[1100:] if len(author_counts[author]) >= 10]\n",
    "total = 0\n",
    "for author in pruned_author_count:\n",
    "    total += len(author_counts[author])\n",
    "#     print(len(author_counts[author]))\n",
    "print(total)\n",
    "\n"
   ]
  },
  {
   "cell_type": "code",
   "execution_count": null,
   "metadata": {},
   "outputs": [],
   "source": [
    "import json\n",
    "\n",
    "# Path to your output .jsonl file\n",
    "\n",
    "# Open the file for writing\n",
    "with open(output_path, 'w') as file:\n",
    "    # Iterate over all sorted authors\n",
    "    for author in tqdm(pruned_author_count, desc = f\"writing author documents to {output_path}\"):\n",
    "        # Iterate over each document in the list associated with the author\n",
    "        for document in author_counts[author]:\n",
    "            # Assuming each document is already a dictionary that can be serialized to JSON\n",
    "            json_string = json.dumps(document)\n",
    "            file.write(json_string + '\\n')\n"
   ]
  },
  {
   "cell_type": "code",
   "execution_count": null,
   "metadata": {},
   "outputs": [],
   "source": []
  }
 ],
 "metadata": {
  "kernelspec": {
   "display_name": "Python 3 (ipykernel)",
   "language": "python",
   "name": "python3"
  },
  "language_info": {
   "codemirror_mode": {
    "name": "ipython",
    "version": 3
   },
   "file_extension": ".py",
   "mimetype": "text/x-python",
   "name": "python",
   "nbconvert_exporter": "python",
   "pygments_lexer": "ipython3",
   "version": "3.11.5"
  }
 },
 "nbformat": 4,
 "nbformat_minor": 2
}
