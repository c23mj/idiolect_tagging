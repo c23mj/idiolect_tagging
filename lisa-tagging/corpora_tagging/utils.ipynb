{
 "cells": [
  {
   "cell_type": "code",
   "execution_count": 2,
   "metadata": {},
   "outputs": [
    {
     "name": "stderr",
     "output_type": "stream",
     "text": [
      "Processing: 100%|██████████| 1000000/1000000 [04:43<00:00, 3525.31it/s]"
     ]
    },
    {
     "name": "stdout",
     "output_type": "stream",
     "text": [
      "defaultdict(<class 'int'>, {'LocationBot': 129636, 'AskScienceModerator': 118294, 'empleadoEstatalBot': 110647, 'DJ_Spam': 104714, 'SteamKiwi': 66011, 'CummyBot2000': 65004, 'MovieGuide': 61333, 'williambotter': 59576, 'autowikibot': 54811, 'subredditreports': 46182, 'samacharbot2': 44024, 'owoifier': 42086, 'CredoBot': 38275, 'Mentioned_Videos': 37514, 'alternate-source-bot': 21893})\n",
      "Total number of authors: 15\n",
      "Total number of posts: 1000000\n",
      "Average number of posts per author: 66666.67\n",
      "Total number of authors with over 5 total posts: 15\n",
      "Total number of authors with over 10 total posts: 15\n"
     ]
    },
    {
     "name": "stderr",
     "output_type": "stream",
     "text": [
      "\n"
     ]
    }
   ],
   "source": [
    "import json\n",
    "from collections import defaultdict\n",
    "from tqdm import tqdm\n",
    "\n",
    "author_dict = defaultdict(int)\n",
    "path = '/shared/3/projects/hiatus/tagged_data/lisa_partitions/tagged-long-reddit/partition-1-10.jsonl'\n",
    "\n",
    "\n",
    "def print_stats(author_dict: dict):\n",
    "    total_posts = 0\n",
    "    authors_over_5 = 0\n",
    "    authors_over_10 = 0\n",
    "    for author, count in author_dict.items():\n",
    "        total_posts += count\n",
    "        if count > 5:\n",
    "            authors_over_5 += 1\n",
    "        if count > 10:\n",
    "            authors_over_10 += 1\n",
    "\n",
    "    total_authors = len(author_dict.keys())\n",
    "    avg_posts = float(total_posts) / total_authors if total_authors else 0.0\n",
    "\n",
    "    print(f\"Total number of authors: {total_authors}\")\n",
    "    print(f\"Total number of posts: {total_posts}\")\n",
    "    print(f\"Average number of posts per author: {avg_posts:.2f}\")\n",
    "    print(f\"Total number of authors with over 5 total posts: {authors_over_5}\")\n",
    "    print(f\"Total number of authors with over 10 total posts: {authors_over_10}\")\n",
    "\n",
    "\n",
    "def update_author_counts(path: str, author_dict: dict, limit: int = 1000000):\n",
    "    with open(path, 'r') as file:\n",
    "        for i, line in enumerate(tqdm(file, total=limit, desc=\"Processing\")):\n",
    "            if i >= limit:\n",
    "                break\n",
    "            doc = json.loads(line)\n",
    "            author_dict[doc['author']] += 1\n",
    "\n",
    "\n",
    "# Update author counts from the specified path\n",
    "update_author_counts(path, author_dict)\n",
    "\n",
    "# Print statistics based on the updated author dictionary\n",
    "print(author_dict)\n",
    "print_stats(author_dict)\n"
   ]
  },
  {
   "cell_type": "code",
   "execution_count": null,
   "metadata": {},
   "outputs": [],
   "source": []
  }
 ],
 "metadata": {
  "kernelspec": {
   "display_name": "Python 3",
   "language": "python",
   "name": "python3"
  },
  "language_info": {
   "codemirror_mode": {
    "name": "ipython",
    "version": 3
   },
   "file_extension": ".py",
   "mimetype": "text/x-python",
   "name": "python",
   "nbconvert_exporter": "python",
   "pygments_lexer": "ipython3",
   "version": "3.9.12"
  }
 },
 "nbformat": 4,
 "nbformat_minor": 2
}
